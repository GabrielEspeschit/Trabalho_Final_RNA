{
 "cells": [
  {
   "cell_type": "code",
   "execution_count": 1,
   "metadata": {},
   "outputs": [],
   "source": [
    "import numpy as np\n",
    "import pandas as pd"
   ]
  },
  {
   "cell_type": "code",
   "execution_count": 2,
   "metadata": {},
   "outputs": [],
   "source": [
    "def trainperceptron (xin, yd, eta, tol, maxepocas):\n",
    "    \n",
    "    '''\n",
    "    Função que aplica o metodo para treinamento de perceptron\n",
    "    yd: tem que ser garado para as xin (concatenado xall), metade 0 e metade 1\n",
    "    xin: Entrada Nxn de dados de matriz\n",
    "    eta: Peso de atualizacao do passo\n",
    "    tol: tolerancia do erro\n",
    "    maxepocas: numero maximo de epocas permitido\n",
    "    retorna:\n",
    "        - wt: parametros da função avaliada\n",
    "        - evec: erro médio por época\n",
    "    '''\n",
    "\n",
    "    N = xin.shape[0]  #recebe as linhas\n",
    "    n = xin.shape[1] # recebe as colunas\n",
    "    xin = np.append(np.ones((N,1)), xin,axis = 1)\n",
    "\n",
    "    wt = np.random.randn(n+1, 1)*0.01\n",
    "\n",
    "    nepocas = 0\n",
    "    eepoca = tol+1\n",
    "    # inicializa vetor erro evec \n",
    "    evec = np.empty([maxepocas+1, 1])\n",
    "    while ((nepocas < maxepocas) and (eepoca>tol)): #eepocas erro da epoca e tol tolerancia\n",
    "        ei2 = 0\n",
    "        if (nepocas+1)%100 == 0:\n",
    "            print(f'Epoca: {nepocas+1}') \n",
    "        #sequencia aleatoria para treinamento\n",
    "        xseq = (np.arange(N))\n",
    "        np.random.shuffle(xseq)\n",
    "        for i in range(N):\n",
    "            #padrao para sequencia aleatoria\n",
    "            irand = xseq[i]\n",
    "            yhati = (np.matmul(xin[None, irand, :], wt)) >= 0\n",
    "            ei = yd[irand]-yhati\n",
    "            dw = eta * ei * xin[None, irand, :]\n",
    "            #atualizacao do peso w\n",
    "            wt = wt + dw.T\n",
    "            #erro acumulado\n",
    "            ei2 = ei2+ei*ei\n",
    "        #numero de epocas\n",
    "        nepocas = nepocas+1\n",
    "        evec[nepocas] = ei2/N\n",
    "        #erro por epoca\n",
    "        eepoca = evec[nepocas]\n",
    "    return wt, evec[1:nepocas]\n",
    "\n",
    "def yperceptron(xin, w):\n",
    "\n",
    "    '''\n",
    "    Função que retorna a saída de um sistema cujo parametros foram obtidos usando a função trainadaline\n",
    "    xin: vetor x de entrada\n",
    "    w: parametros a serem considerados\n",
    "    retorna: vetor y correspondente ao modelo com parametros w\n",
    "    '''\n",
    "\n",
    "    return ((np.matmul(np.append(np.ones((xin.shape[0],1)), xin,axis = 1 ), w))>=0).astype(int)"
   ]
  },
  {
   "cell_type": "code",
   "execution_count": 3,
   "metadata": {},
   "outputs": [],
   "source": [
    "data = pd.read_csv('mammographic_masses_frac.data', index_col = 0)\n",
    "test = pd.read_csv('mammographic_masses_frac.test', index_col = 0)"
   ]
  },
  {
   "cell_type": "code",
   "execution_count": 4,
   "metadata": {},
   "outputs": [],
   "source": [
    "X_data_train = data.iloc[:, 0:-1].to_numpy()\n",
    "Y_data_train = data.iloc[:, -1].to_numpy()\n",
    "\n",
    "X_data_test = test.iloc[:, 0:-1].to_numpy()\n",
    "Y_data_test = test.iloc[:, -1].to_numpy()"
   ]
  },
  {
   "cell_type": "code",
   "execution_count": 5,
   "metadata": {
    "scrolled": true
   },
   "outputs": [
    {
     "name": "stdout",
     "output_type": "stream",
     "text": [
      "Epoca: 100\n",
      "Epoca: 200\n",
      "Epoca: 300\n",
      "Epoca: 400\n",
      "Epoca: 500\n",
      "Epoca: 100\n",
      "Epoca: 200\n",
      "Epoca: 300\n",
      "Epoca: 400\n",
      "Epoca: 500\n",
      "Epoca: 100\n",
      "Epoca: 200\n",
      "Epoca: 300\n",
      "Epoca: 400\n",
      "Epoca: 500\n",
      "Epoca: 100\n",
      "Epoca: 200\n",
      "Epoca: 300\n",
      "Epoca: 400\n",
      "Epoca: 500\n",
      "Epoca: 100\n",
      "Epoca: 200\n",
      "Epoca: 300\n",
      "Epoca: 400\n",
      "Epoca: 500\n",
      "Epoca: 100\n",
      "Epoca: 200\n",
      "Epoca: 300\n",
      "Epoca: 400\n",
      "Epoca: 500\n",
      "Epoca: 100\n",
      "Epoca: 200\n",
      "Epoca: 300\n",
      "Epoca: 400\n",
      "Epoca: 500\n",
      "Epoca: 100\n",
      "Epoca: 200\n",
      "Epoca: 300\n",
      "Epoca: 400\n",
      "Epoca: 500\n",
      "Epoca: 100\n",
      "Epoca: 200\n",
      "Epoca: 300\n",
      "Epoca: 400\n",
      "Epoca: 500\n",
      "Epoca: 100\n",
      "Epoca: 200\n",
      "Epoca: 300\n",
      "Epoca: 400\n",
      "Epoca: 500\n"
     ]
    }
   ],
   "source": [
    "acc = []\n",
    "for i in range(10):\n",
    "    model, eva = trainperceptron (X_data_train, Y_data_train, 0.01, 0.001, 500)\n",
    "    y_pred = yperceptron(X_data_test, model)\n",
    "    acc.append((y_pred.reshape(-1) == Y_data_test.T).mean())"
   ]
  },
  {
   "cell_type": "code",
   "execution_count": 78,
   "metadata": {},
   "outputs": [
    {
     "data": {
      "text/plain": [
       "0.713840830449827"
      ]
     },
     "execution_count": 78,
     "metadata": {},
     "output_type": "execute_result"
    }
   ],
   "source": [
    "np.mean(acc)"
   ]
  },
  {
   "cell_type": "code",
   "execution_count": 6,
   "metadata": {},
   "outputs": [
    {
     "data": {
      "text/plain": [
       "[0.6816608996539792,\n",
       " 0.740484429065744,\n",
       " 0.6505190311418685,\n",
       " 0.643598615916955,\n",
       " 0.5051903114186851,\n",
       " 0.7508650519031141,\n",
       " 0.6920415224913494,\n",
       " 0.7474048442906575,\n",
       " 0.6470588235294118,\n",
       " 0.5051903114186851]"
      ]
     },
     "execution_count": 6,
     "metadata": {},
     "output_type": "execute_result"
    }
   ],
   "source": [
    "acc"
   ]
  },
  {
   "cell_type": "code",
   "execution_count": null,
   "metadata": {},
   "outputs": [],
   "source": []
  }
 ],
 "metadata": {
  "kernelspec": {
   "display_name": "Python 3",
   "language": "python",
   "name": "python3"
  },
  "language_info": {
   "codemirror_mode": {
    "name": "ipython",
    "version": 3
   },
   "file_extension": ".py",
   "mimetype": "text/x-python",
   "name": "python",
   "nbconvert_exporter": "python",
   "pygments_lexer": "ipython3",
   "version": "3.8.5"
  }
 },
 "nbformat": 4,
 "nbformat_minor": 4
}
