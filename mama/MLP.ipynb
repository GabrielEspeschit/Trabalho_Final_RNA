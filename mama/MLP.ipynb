{
 "cells": [
  {
   "cell_type": "code",
   "execution_count": 1,
   "metadata": {},
   "outputs": [],
   "source": [
    "import pandas as pd\n",
    "import numpy as np\n",
    "from sklearn.neural_network import MLPClassifier"
   ]
  },
  {
   "cell_type": "code",
   "execution_count": 2,
   "metadata": {},
   "outputs": [],
   "source": [
    "data = pd.read_csv('mammographic_masses_frac.data', index_col = 0)\n",
    "test = pd.read_csv('mammographic_masses_frac.test', index_col = 0)"
   ]
  },
  {
   "cell_type": "code",
   "execution_count": 3,
   "metadata": {},
   "outputs": [],
   "source": [
    "X_data_train = data.iloc[:, 0:-1].to_numpy()\n",
    "Y_data_train = data.iloc[:, -1].to_numpy()\n",
    "\n",
    "X_data_test = test.iloc[:, 0:-1].to_numpy()\n",
    "Y_data_test = test.iloc[:, -1].to_numpy()"
   ]
  },
  {
   "cell_type": "code",
   "execution_count": 13,
   "metadata": {},
   "outputs": [
    {
     "name": "stderr",
     "output_type": "stream",
     "text": [
      "/home/gespeschit/.local/lib/python3.8/site-packages/sklearn/neural_network/_multilayer_perceptron.py:613: ConvergenceWarning: Stochastic Optimizer: Maximum iterations (500) reached and the optimization hasn't converged yet.\n",
      "  warnings.warn(\n",
      "/home/gespeschit/.local/lib/python3.8/site-packages/sklearn/neural_network/_multilayer_perceptron.py:613: ConvergenceWarning: Stochastic Optimizer: Maximum iterations (500) reached and the optimization hasn't converged yet.\n",
      "  warnings.warn(\n",
      "/home/gespeschit/.local/lib/python3.8/site-packages/sklearn/neural_network/_multilayer_perceptron.py:613: ConvergenceWarning: Stochastic Optimizer: Maximum iterations (500) reached and the optimization hasn't converged yet.\n",
      "  warnings.warn(\n",
      "/home/gespeschit/.local/lib/python3.8/site-packages/sklearn/neural_network/_multilayer_perceptron.py:613: ConvergenceWarning: Stochastic Optimizer: Maximum iterations (500) reached and the optimization hasn't converged yet.\n",
      "  warnings.warn(\n"
     ]
    }
   ],
   "source": [
    "acc = []\n",
    "for i in range(10):\n",
    "    clf = MLPClassifier(hidden_layer_sizes = (20, 10), max_iter=500).fit(X_data_train, Y_data_train)\n",
    "    y_pred = clf.predict(X_data_test)\n",
    "    acc.append((y_pred == Y_data_test).mean())"
   ]
  },
  {
   "cell_type": "code",
   "execution_count": 14,
   "metadata": {},
   "outputs": [
    {
     "data": {
      "text/plain": [
       "0.7937716262975779"
      ]
     },
     "execution_count": 14,
     "metadata": {},
     "output_type": "execute_result"
    }
   ],
   "source": [
    "np.mean(acc)"
   ]
  },
  {
   "cell_type": "code",
   "execution_count": 16,
   "metadata": {},
   "outputs": [
    {
     "data": {
      "text/plain": [
       "[0.7820069204152249,\n",
       " 0.7958477508650519,\n",
       " 0.8062283737024222,\n",
       " 0.7993079584775087,\n",
       " 0.8027681660899654,\n",
       " 0.7647058823529411,\n",
       " 0.7923875432525952,\n",
       " 0.7993079584775087,\n",
       " 0.7993079584775087,\n",
       " 0.7958477508650519]"
      ]
     },
     "execution_count": 16,
     "metadata": {},
     "output_type": "execute_result"
    }
   ],
   "source": [
    "acc"
   ]
  },
  {
   "cell_type": "code",
   "execution_count": null,
   "metadata": {},
   "outputs": [],
   "source": []
  }
 ],
 "metadata": {
  "kernelspec": {
   "display_name": "Python 3",
   "language": "python",
   "name": "python3"
  },
  "language_info": {
   "codemirror_mode": {
    "name": "ipython",
    "version": 3
   },
   "file_extension": ".py",
   "mimetype": "text/x-python",
   "name": "python",
   "nbconvert_exporter": "python",
   "pygments_lexer": "ipython3",
   "version": "3.8.5"
  }
 },
 "nbformat": 4,
 "nbformat_minor": 4
}
